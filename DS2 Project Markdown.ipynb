{
 "cells": [
  {
   "cell_type": "markdown",
   "metadata": {},
   "source": [
    "# Step 1: Problem statement"
   ]
  },
  {
   "cell_type": "markdown",
   "metadata": {},
   "source": [
    "Obesity is a serious and chronic disease, Obesity can lead to type 2 diabetes, heart disease, and some cancers. A healthy diet and regular physical activity help people achieve and maintain a healthy weight starting at an early age and continuing throughout life."
   ]
  },
  {
   "cell_type": "markdown",
   "metadata": {},
   "source": [
    "## Data source"
   ]
  },
  {
   "cell_type": "markdown",
   "metadata": {},
   "source": [
    "https://archive.ics.uci.edu/ml/datasets/Estimation+of+obesity+levels+based+on+eating+habits+and+physical+condition+"
   ]
  },
  {
   "cell_type": "markdown",
   "metadata": {},
   "source": [
    "This is a <b>Structured </b>data source that is supervised (labeled).  We will be using a Classification model. \n",
    "Data features are divided into two categories: <b>Eating habits</b> and <b>Physical conditions</b>. "
   ]
  },
  {
   "cell_type": "markdown",
   "metadata": {},
   "source": [
    "Eating habits: \n",
    " - Frequent consumption of high caloric food (FAVC)\n",
    " - Frequency of consumption of vegetables (FCVC)\n",
    " - Number of main meals (NCP)\n",
    " - Consumption of food between meals (CAEC)\n",
    " - Consumption of water daily (CH20)\n",
    " - Consumption of alcohol (CALC)"
   ]
  },
  {
   "cell_type": "markdown",
   "metadata": {},
   "source": [
    "Physical conditions\n",
    " - Calories consumption monitoring (SCC)\n",
    " - Physical activity frequency (FAF)\n",
    " - Time using technology devices (TUE)\n",
    " - Transportation used (MTRANS)\n",
    " - Gender\n",
    " - Age\n",
    " - Height \n",
    " - Weight"
   ]
  },
  {
   "cell_type": "markdown",
   "metadata": {},
   "source": [
    "<b>Target data: NObesity</b>"
   ]
  },
  {
   "cell_type": "markdown",
   "metadata": {},
   "source": [
    "If you have to combine features to define the target, discuss that here.\n",
    "Do you need to combine multiple data sources? No\n",
    "Articulate the final outcome that you hope to achieve with this analysis. \n",
    "- Predictive analysis to determine probability of obesity"
   ]
  },
  {
   "cell_type": "markdown",
   "metadata": {},
   "source": []
  },
  {
   "cell_type": "markdown",
   "metadata": {},
   "source": [
    "# Step 2: Data Acquisition "
   ]
  },
  {
   "cell_type": "markdown",
   "metadata": {},
   "source": [
    "in this section you will talk about how you found the data.\n",
    "[ ] Make sure that you mention the source of your data.\n",
    "[ ] If you are using multiple datasets, make sure you mention the source of all of those datasets and mention why you are using the datsets"
   ]
  },
  {
   "cell_type": "markdown",
   "metadata": {},
   "source": [
    "# Step 3: Data Dictionary"
   ]
  },
  {
   "cell_type": "code",
   "execution_count": 1,
   "metadata": {},
   "outputs": [
    {
     "data": {
      "text/plain": [
       "2"
      ]
     },
     "execution_count": 1,
     "metadata": {},
     "output_type": "execute_result"
    }
   ],
   "source": [
    "1+1"
   ]
  },
  {
   "cell_type": "code",
   "execution_count": null,
   "metadata": {},
   "outputs": [],
   "source": []
  }
 ],
 "metadata": {
  "kernelspec": {
   "display_name": "Python 3",
   "language": "python",
   "name": "python3"
  },
  "language_info": {
   "codemirror_mode": {
    "name": "ipython",
    "version": 3
   },
   "file_extension": ".py",
   "mimetype": "text/x-python",
   "name": "python",
   "nbconvert_exporter": "python",
   "pygments_lexer": "ipython3",
   "version": "3.8.5"
  }
 },
 "nbformat": 4,
 "nbformat_minor": 4
}
